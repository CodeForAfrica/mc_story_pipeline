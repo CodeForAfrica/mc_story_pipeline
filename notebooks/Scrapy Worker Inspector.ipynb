{
 "cells": [
  {
   "cell_type": "markdown",
   "id": "bd44a029",
   "metadata": {},
   "source": [
    "# Scrapy worker inspection\n",
    "\n",
    "20 workers, maximum concurrency of 10 requests per worker\n",
    "\n",
    "A set of visualizations to inspect the performance of a run of the scrapy parallization system. Takes maybe 10 minutes to run, since it recomputes batches and then has to accumulate a bunch of timestamps-\n"
   ]
  },
  {
   "cell_type": "code",
   "execution_count": 44,
   "id": "75096012",
   "metadata": {},
   "outputs": [],
   "source": [
    "#The plan here is to\n",
    "# 1, check completeness across batches- just load in the batch and see the count\n",
    "# 2, check timeframe for each batch- each has a *_ts file recording when it was saved\n",
    "\n",
    "from pathlib import Path\n",
    "import datetime\n",
    "import matplotlib.pyplot as plt\n",
    "import json\n",
    "import csv\n",
    "from pprint import pprint\n",
    "\n",
    "DATADIR = \"../data\"\n",
    "\n",
    "#Set the date\n",
    "date = datetime.datetime(2023, 5, 1)\n",
    "\n",
    "datapath = f\"{DATADIR}/{date.year}/{date.month}/{date.day}/\"\n"
   ]
  },
  {
   "cell_type": "code",
   "execution_count": 40,
   "id": "6da2cfb5",
   "metadata": {},
   "outputs": [],
   "source": [
    "#Count the total number of links in each batchfile\n",
    "\n",
    "batchfiles = list(Path(datapath).glob(\"batchfile_[0-9]*.csv\"))\n",
    "batch_totals = {}\n",
    "for batch in batchfiles:\n",
    "    batch_id = int(batch.name.split(\"_\")[-1].split(\".\")[0])\n",
    "    count = 0\n",
    "    with batch.open() as b:\n",
    "        reader = csv.DictReader(b)\n",
    "        for row in reader:\n",
    "            count += 1\n",
    "    batch_totals[batch_id] = count\n",
    "    \n",
    "num_batches = len(batch_totals)"
   ]
  },
  {
   "cell_type": "code",
   "execution_count": 47,
   "id": "cdf82e7c",
   "metadata": {},
   "outputs": [
    {
     "name": "stdout",
     "output_type": "stream",
     "text": [
      "Batch 0: 355 successful fetches, 0.71 completion\n",
      "Batch 1: 0 successful fetches, 0.0 completion\n",
      "Overall: 355 successful fetches, 0.355 completion\n"
     ]
    }
   ],
   "source": [
    "#Injest all of the http fetch metadata records\n",
    "\n",
    "metadata_strs = list(Path(datapath+\"/content\").glob(\"*%-http_meta.json\"))\n",
    "batch_ts = {b:[] for b in batch_totals.keys()}\n",
    "for md in metadata_strs:\n",
    "    with md.open() as f:\n",
    "        data = json.load(f)\n",
    "        batch_ts[data['fetch_batch']].append(data['fetch_timestamp'])\n",
    "\n",
    "            \n",
    "            \n",
    "total = 0\n",
    "for batch, ts in batch_ts.items():\n",
    "    batch_total = batch_totals[batch]\n",
    "    print(f\"Batch {batch}: {len(ts)} successful fetches, {len(ts)/batch_total} completion\")\n",
    "    total += len(ts)\n",
    "    \n",
    "    \n",
    "total_target = sum(i for i in batch_totals.values())\n",
    "    \n",
    "print(f\"Overall: {total} successful fetches, {total/total_target} completion\")\n",
    "\n"
   ]
  },
  {
   "cell_type": "code",
   "execution_count": 51,
   "id": "596912b8",
   "metadata": {},
   "outputs": [
    {
     "name": "stdout",
     "output_type": "stream",
     "text": [
      "{0: 1684860448.949433}\n"
     ]
    }
   ],
   "source": [
    "#gotta do this kinda hacky for now, since I don't record when the batch actually begins running. \n",
    "start_ts = {k:min(v) for k, v in batch_ts.items() if len(v) > 0}\n"
   ]
  },
  {
   "cell_type": "code",
   "execution_count": 65,
   "id": "f3cc54b9",
   "metadata": {},
   "outputs": [],
   "source": [
    "def batch_timeframe(batch_index, ts=batch_ts, start=start_ts, steps= 100):\n",
    "    \n",
    "    if batch_index not in start:\n",
    "        return None, None, None\n",
    "    \n",
    "    starttime = start[batch_index]\n",
    "    \n",
    "    batchts = ts[batch_index]\n",
    "    \n",
    "    events = []\n",
    "    \n",
    "    if(len(batchts)==0):\n",
    "        return None, None, None\n",
    "    \n",
    "    for time in batchts:\n",
    "        \n",
    "        duration = time - starttime\n",
    "        events.append(duration)\n",
    "        \n",
    "    top = int(max(events)+1)\n",
    "    inc = top / steps\n",
    "    head = 0\n",
    "    accumulator = {}\n",
    "    for i in range(steps):\n",
    "        value = len([e for e in events if e <= head])\n",
    "        accumulator[head] = value\n",
    "        head += inc\n",
    "    \n",
    "    return accumulator, top-1, len(batchts)\n",
    "    \n",
    "\n",
    "\n",
    "def plot_batch_timeframe(batch_index, totals=batch_totals):\n",
    "    tf, time, num = batch_timeframe(batch_index)\n",
    "    if tf is None:\n",
    "        stats = {\"batch_index\":0,\n",
    "                \"num_collected\": 0,\n",
    "                \"total_duration\": 0, \n",
    "                \"rate\": 0,\n",
    "                \"interval\": 0,\n",
    "                \"percent\":0,\n",
    "                }\n",
    "        fstr = f\"batch {batch_index} collected zero files\"\n",
    "        return stats\n",
    "    \n",
    "    total = totals[batch_index]\n",
    "    \n",
    "    x = tf.keys()\n",
    "    y = tf.values()\n",
    "    \n",
    "    w = max(x)/len(x)\n",
    "    \n",
    "    fix, ax = plt.subplots()\n",
    "    ax.set_title(f\"Scrapy task consumption over time for batch {batch_index}\")\n",
    "    ax.bar(x, y, width=w, linewidth=0.7)\n",
    "    ax.set_ylim([0, total])\n",
    "    \n",
    "    plt.show()\n",
    "    \n",
    "    num = list(y)[-1]\n",
    "    if num == 0:\n",
    "        stats = {\"batch_index\":batch_index,\n",
    "                \"num_collected\": 0,\n",
    "                \"total_duration\": 0, \n",
    "                \"rate\": 0,\n",
    "                \"interval\": 0,\n",
    "                \"percent\":0,\n",
    "                }\n",
    "    else:\n",
    "        stats = {\"batch_index\":batch_index,\n",
    "             \"num_collected\": num,\n",
    "             \"total_duration\": time, \n",
    "             \"rate\": num/time,\n",
    "             \"interval\": time/num,\n",
    "             \"percent\": num/total}\n",
    "   \n",
    "    #print(fstr)\n",
    "    return stats\n",
    "    \n",
    "def report(s):\n",
    "    o = f\"\"\"\n",
    "\n",
    "Batch {s['batch_index']} collected {s[\"num_collected\"]} pages in {s['total_duration']}.    \n",
    "{s['rate']} per second,\n",
    "{s['interval']} per fetch,\n",
    "{s['percent']} coverage of target. \n",
    "{'#'*60}    \n",
    "    \n",
    "    \"\"\"\n",
    "    return o"
   ]
  },
  {
   "cell_type": "code",
   "execution_count": 66,
   "id": "d8082303",
   "metadata": {
    "scrolled": false
   },
   "outputs": [
    {
     "data": {
      "image/png": "[encoded data removed]",
      "text/plain": [
       "<Figure size 640x480 with 1 Axes>"
      ]
     },
     "metadata": {},
     "output_type": "display_data"
    },
    {
     "name": "stdout",
     "output_type": "stream",
     "text": [
      "\n",
      "\n",
      "Batch 0 collected 354 pages in 235.    \n",
      "1.5063829787234042 per second,\n",
      "0.6638418079096046 per fetch,\n",
      "0.708 coverage of target. \n",
      "############################################################    \n",
      "    \n",
      "    \n",
      "\n",
      "\n",
      "Batch 0 collected 0 pages in 0.    \n",
      "0 per second,\n",
      "0 per fetch,\n",
      "0 coverage of target. \n",
      "############################################################    \n",
      "    \n",
      "    \n"
     ]
    }
   ],
   "source": [
    "stats = []\n",
    "for i in range(num_batches):\n",
    "    s = plot_batch_timeframe(i)\n",
    "    stats.append(s)\n",
    "    print(report(s))"
   ]
  },
  {
   "cell_type": "code",
   "execution_count": 80,
   "id": "db80e37e",
   "metadata": {},
   "outputs": [
    {
     "name": "stdout",
     "output_type": "stream",
     "text": [
      "1684860448.949433\n"
     ]
    },
    {
     "data": {
      "image/png": "[encoded data removed]",
      "text/plain": [
       "<Figure size 640x480 with 1 Axes>"
      ]
     },
     "metadata": {},
     "output_type": "display_data"
    },
    {
     "name": "stdout",
     "output_type": "stream",
     "text": [
      "\n",
      "\n",
      "Batch Total collected 354 pages in 236.    \n",
      "1.5 per second,\n",
      "0.6666666666666666 per fetch,\n",
      "0.354 coverage of target. \n",
      "############################################################    \n",
      "    \n",
      "    \n"
     ]
    }
   ],
   "source": [
    "def total_progress_plot(ts=batch_ts, start_events=start_ts, totals=batch_totals, steps= 100):\n",
    "    #accumulate all timestamps into one progress meter\n",
    "    all_ts = []\n",
    "    [all_ts.extend(list(t)) for t in ts.values()]\n",
    "    events = []\n",
    "    \n",
    "    #use earliest 'start' stamp as a start\n",
    "    \n",
    "    start_ = min(t for t in start_events.values())\n",
    "    print(start_)\n",
    "    for time in all_ts:\n",
    "        duration = time - start_\n",
    "        events.append(duration)\n",
    "        \n",
    "\n",
    "        \n",
    "    top = int(max(events)+1)\n",
    "    inc = top / steps\n",
    "    head = 0\n",
    "    accumulator = {}\n",
    "    for i in range(steps):\n",
    "        value = len([e for e in events if e <= head])\n",
    "        accumulator[head] = value\n",
    "        head += inc\n",
    "    \n",
    "    #and use sum of totals as target\n",
    "    target = sum(t for t in totals.values())\n",
    "    \n",
    "    x = accumulator.keys()\n",
    "    y = accumulator.values()\n",
    "    \n",
    "    w = max(x)/len(x)\n",
    "    \n",
    "    fix, ax = plt.subplots()\n",
    "    ax.set_title(f\"Scrapy task consumption over time for all batches\")\n",
    "    ax.bar(x, y, width=w, linewidth=0.7)\n",
    "    ax.set_ylim([0, target])\n",
    "    \n",
    "    plt.show()\n",
    "    \n",
    "    num = list(y)[-1]\n",
    "    time = top\n",
    "    \n",
    "    stats = {\"batch_index\":\"Total\",\n",
    "             \"num_collected\": num,\n",
    "             \"total_duration\": time, \n",
    "             \"rate\": num/time,\n",
    "             \"interval\": time/num,\n",
    "             \"percent\": num/target}\n",
    "    return stats\n",
    "    \n",
    "    \n",
    "overall_stats = total_progress_plot()\n",
    "print(report(overall_stats))"
   ]
  },
  {
   "cell_type": "code",
   "execution_count": null,
   "id": "6a6903b3",
   "metadata": {},
   "outputs": [],
   "source": []
  }
 ],
 "metadata": {
  "kernelspec": {
   "display_name": "Python 3 (ipykernel)",
   "language": "python",
   "name": "python3"
  },
  "language_info": {
   "codemirror_mode": {
    "name": "ipython",
    "version": 3
   },
   "file_extension": ".py",
   "mimetype": "text/x-python",
   "name": "python",
   "nbconvert_exporter": "python",
   "pygments_lexer": "ipython3",
   "version": "3.10.6"
  }
 },
 "nbformat": 4,
 "nbformat_minor": 5
}
